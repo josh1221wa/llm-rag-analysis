{
 "cells": [
  {
   "cell_type": "markdown",
   "metadata": {
    "editable": false,
    "slideshow": {
     "slide_type": ""
    },
    "tags": []
   },
   "source": [
    "## Initialization"
   ]
  },
  {
   "cell_type": "code",
   "execution_count": 1,
   "metadata": {
    "slideshow": {
     "slide_type": ""
    },
    "tags": []
   },
   "outputs": [
    {
     "name": "stderr",
     "output_type": "stream",
     "text": [
      "c:\\Users\\Joshua\\anaconda3\\envs\\llm_env\\Lib\\site-packages\\requests\\__init__.py:109: RequestsDependencyWarning: urllib3 (2.2.3) or chardet (None)/charset_normalizer (2.1.1) doesn't match a supported version!\n",
      "  warnings.warn(\n"
     ]
    }
   ],
   "source": [
    "from langchain_ollama.llms import OllamaLLM\n",
    "\n",
    "import torch\n",
    "device = torch.device('cuda:0')\n",
    "\n",
    "query = \"Hello!\""
   ]
  },
  {
   "cell_type": "markdown",
   "metadata": {
    "editable": false,
    "slideshow": {
     "slide_type": ""
    },
    "tags": []
   },
   "source": [
    "### Llama 3.2 - 3B"
   ]
  },
  {
   "cell_type": "code",
   "execution_count": 2,
   "metadata": {
    "slideshow": {
     "slide_type": ""
    },
    "tags": []
   },
   "outputs": [
    {
     "name": "stdout",
     "output_type": "stream",
     "text": [
      "Hello! It's nice to meet you. Is there something I can help you with or would you like to chat?\n"
     ]
    }
   ],
   "source": [
    "model = OllamaLLM(model=\"llama3.2:3b\")\n",
    "\n",
    "print(model.invoke(query))"
   ]
  },
  {
   "cell_type": "markdown",
   "metadata": {
    "slideshow": {
     "slide_type": ""
    },
    "tags": []
   },
   "source": [
    "### Gemma2 - 9B"
   ]
  },
  {
   "cell_type": "code",
   "execution_count": 3,
   "metadata": {
    "slideshow": {
     "slide_type": ""
    },
    "tags": []
   },
   "outputs": [
    {
     "name": "stdout",
     "output_type": "stream",
     "text": [
      "Hello! 👋 \n",
      "\n",
      "How can I help you today? 😊\n"
     ]
    }
   ],
   "source": [
    "model = OllamaLLM(model=\"gemma2\")\n",
    "\n",
    "print(model.invoke(query))"
   ]
  },
  {
   "cell_type": "markdown",
   "metadata": {},
   "source": [
    "### Qwen2.5 - 7B"
   ]
  },
  {
   "cell_type": "code",
   "execution_count": 4,
   "metadata": {},
   "outputs": [
    {
     "name": "stdout",
     "output_type": "stream",
     "text": [
      "Hello! How can I assist you today?\n"
     ]
    }
   ],
   "source": [
    "model = OllamaLLM(model=\"qwen2.5\")\n",
    "\n",
    "print(model.invoke(query))"
   ]
  },
  {
   "cell_type": "markdown",
   "metadata": {},
   "source": [
    "### Mistral - 7B"
   ]
  },
  {
   "cell_type": "code",
   "execution_count": 5,
   "metadata": {},
   "outputs": [
    {
     "name": "stdout",
     "output_type": "stream",
     "text": [
      " Hello! How can I help you today?\n",
      "\n",
      "I'm an assistant designed to provide information, answer questions, and engage in meaningful conversations. Feel free to ask me anything, from the simplest question to complex topics like science, history, or technology. If you have any specific requests or preferences, let me know so I can tailor my responses to your needs!\n",
      "\n",
      "What would you like to talk about today?\n"
     ]
    }
   ],
   "source": [
    "model = OllamaLLM(model=\"mistral\")\n",
    "\n",
    "print(model.invoke(query))"
   ]
  },
  {
   "cell_type": "markdown",
   "metadata": {},
   "source": [
    "## Query Answers (without context)"
   ]
  },
  {
   "cell_type": "code",
   "execution_count": 6,
   "metadata": {},
   "outputs": [],
   "source": [
    "from langchain_ollama.llms import OllamaLLM\n",
    "from langchain.prompts import PromptTemplate\n",
    "import torch\n",
    "import os\n",
    "from tqdm import tqdm\n",
    "\n",
    "device = torch.device('cuda:0')\n",
    "\n",
    "questions = [\"Explain how blockchain reduces fraud in international trade, focusing on transparency, traceability, and decentralization.\", \n",
    "             \"Analyze blockchain's impact on healthcare, including data management, supply chain, and billing systems.\",\n",
    "             \"Describe blockchain-based KYC processes and their advantages over traditional methods.\",\n",
    "             \"Evaluate blockchain's role in cross-border payments, emphasizing cost, speed, and transparency.\",\n",
    "             \"Discuss the potential and challenges of integrating AI with blockchain technology.\"]\n",
    "\n",
    "template = \"\"\"Answer the given question based on your knowledge.\n",
    "\n",
    "Question : {question}\n",
    "\n",
    "Instructions for answering\n",
    "1. The question has to be answered with a minimum of 100 words and a maximum of 500 words.\n",
    "2. Atleast 3 paragraphs have to be present - 1 introduction, 1 conclusion and 1 with the content.\n",
    "3. Bullet points and subheadings can be present.\n",
    "4. Proper markdown format has to be followed.\n",
    "\n",
    "Answer:\"\"\"\n",
    "\n",
    "prompt = PromptTemplate.from_template(template)\n",
    "\n",
    "models = [\"llama3.2:3b\", \"gemma2\", \"qwen2.5\", \"mistral\"]\n",
    "output_folders = [\"llama\", \"gemma\", \"qwen\", \"mistral\"]\n",
    "\n",
    "if not os.path.exists(\"answers_db\"):\n",
    "    os.makedirs(\"answers_db\")\n",
    "\n",
    "if not os.path.exists(\"answers_db/no_context\"):\n",
    "    os.makedirs(\"answers_db/no_context\")\n",
    "    \n",
    "for folder_name in output_folders:\n",
    "    if not os.path.exists(f\"answers_db/no_context/{folder_name}\"):\n",
    "        os.makedirs(f\"answers_db/no_context/{folder_name}\")\n",
    "    \n",
    "for folder_name in output_folders:\n",
    "    for i in range(len(questions)):\n",
    "        f = open(f\"answers_db/no_context/{folder_name}/Turn {i}.md\", \"w\", newline='')\n",
    "        f.close()"
   ]
  },
  {
   "cell_type": "code",
   "execution_count": 7,
   "metadata": {},
   "outputs": [
    {
     "name": "stderr",
     "output_type": "stream",
     "text": [
      "llama3.2:3b: 100%|██████████| 5/5 [01:58<00:00, 23.78s/it]\n",
      "gemma2: 100%|██████████| 5/5 [06:57<00:00, 83.56s/it]\n",
      "qwen2.5: 100%|██████████| 5/5 [04:53<00:00, 58.75s/it]\n",
      "mistral: 100%|██████████| 5/5 [04:22<00:00, 52.45s/it]\n"
     ]
    }
   ],
   "source": [
    "for model_name, output_folder in zip(models, output_folders):\n",
    "    \n",
    "    model = OllamaLLM(model=model_name)\n",
    "    \n",
    "    turn = 0\n",
    "    for question in tqdm(questions, desc=model_name):\n",
    "        chain = prompt.format(**{\"question\": question})\n",
    "        answer = model.invoke(chain)\n",
    "        \n",
    "        f = open(f\"answers_db/no_context/{output_folder}/Turn {turn}.md\", \"w\")\n",
    "        f.write(answer)\n",
    "        f.close()\n",
    "        \n",
    "        turn += 1\n",
    "    "
   ]
  },
  {
   "cell_type": "markdown",
   "metadata": {},
   "source": [
    "## Average Response Time (without context)"
   ]
  },
  {
   "cell_type": "code",
   "execution_count": 8,
   "metadata": {},
   "outputs": [],
   "source": [
    "from langchain_ollama.llms import OllamaLLM\n",
    "from langchain.prompts import PromptTemplate\n",
    "import torch\n",
    "from timeit import default_timer as timer\n",
    "import csv\n",
    "from tqdm import tqdm\n",
    "import os\n",
    "\n",
    "device = torch.device('cuda:0')\n",
    "\n",
    "questions = [\"Explain how blockchain reduces fraud in international trade, focusing on transparency, traceability, and decentralization.\", \n",
    "             \"Analyze blockchain's impact on healthcare, including data management, supply chain, and billing systems.\",\n",
    "             \"Describe blockchain-based KYC processes and their advantages over traditional methods.\",\n",
    "             \"Evaluate blockchain's role in cross-border payments, emphasizing cost, speed, and transparency.\",\n",
    "             \"Discuss the potential and challenges of integrating AI with blockchain technology.\"]\n",
    "\n",
    "template = \"\"\"Answer the given question based on your knowledge.\n",
    "\n",
    "Question : {question}\n",
    "\n",
    "Instructions for answering\n",
    "1. The question has to be answered with a minimum of 100 words and a maximum of 500 words.\n",
    "2. Atleast 3 paragraphs have to be present - 1 introduction, 1 conclusion and 1 with the content.\n",
    "3. Bullet points and subheadings can be present.\n",
    "4. Proper markdown format has to be followed.\n",
    "\n",
    "Answer:\"\"\"\n",
    "\n",
    "prompt = PromptTemplate.from_template(template)\n",
    "\n",
    "models = [\"llama3.2:3b\", \"gemma2\", \"qwen2.5\", \"mistral\"]\n",
    "logs = [\"llama\", \"gemma\", \"qwen\", \"mistral\"]\n",
    "\n",
    "if not os.path.exists(\"time_db\"):\n",
    "    os.makedirs(\"time_db\")\n",
    "\n",
    "if not os.path.exists(\"time_db/no_context\"):\n",
    "    os.makedirs(\"time_db/no_context\")\n",
    "\n",
    "for logfile in logs:\n",
    "    f = open(f\"time_db/no_context/{logfile}.csv\", \"w\", newline='')\n",
    "    csv.writer(f).writerow([\"Iteration\", \"Turn\", \"Duration\"])\n",
    "    f.close()"
   ]
  },
  {
   "cell_type": "code",
   "execution_count": 9,
   "metadata": {},
   "outputs": [
    {
     "name": "stdout",
     "output_type": "stream",
     "text": [
      "llama3.2:3b\n",
      "\n"
     ]
    },
    {
     "name": "stderr",
     "output_type": "stream",
     "text": [
      "Iteration 1: 100%|██████████| 5/5 [02:13<00:00, 26.67s/it]\n",
      "Iteration 2: 100%|██████████| 5/5 [01:53<00:00, 22.63s/it]\n",
      "Iteration 3: 100%|██████████| 5/5 [01:54<00:00, 22.91s/it]\n",
      "Iteration 4: 100%|██████████| 5/5 [01:40<00:00, 20.10s/it]\n",
      "Iteration 5: 100%|██████████| 5/5 [01:32<00:00, 18.42s/it]\n",
      "Iteration 6: 100%|██████████| 5/5 [01:42<00:00, 20.44s/it]\n",
      "Iteration 7: 100%|██████████| 5/5 [01:44<00:00, 20.91s/it]\n",
      "Iteration 8: 100%|██████████| 5/5 [01:53<00:00, 22.77s/it]\n",
      "Iteration 9: 100%|██████████| 5/5 [02:04<00:00, 24.85s/it]\n",
      "Iteration 10: 100%|██████████| 5/5 [02:02<00:00, 24.51s/it]\n",
      "Iteration 11: 100%|██████████| 5/5 [01:49<00:00, 21.87s/it]\n",
      "Iteration 12: 100%|██████████| 5/5 [01:59<00:00, 23.88s/it]\n",
      "Iteration 13: 100%|██████████| 5/5 [01:43<00:00, 20.78s/it]\n",
      "Iteration 14: 100%|██████████| 5/5 [01:30<00:00, 18.02s/it]\n",
      "Iteration 15: 100%|██████████| 5/5 [01:45<00:00, 21.13s/it]\n",
      "Iteration 16: 100%|██████████| 5/5 [01:43<00:00, 20.78s/it]\n",
      "Iteration 17: 100%|██████████| 5/5 [01:54<00:00, 22.88s/it]\n",
      "Iteration 18: 100%|██████████| 5/5 [01:41<00:00, 20.36s/it]\n",
      "Iteration 19: 100%|██████████| 5/5 [01:52<00:00, 22.47s/it]\n",
      "Iteration 20: 100%|██████████| 5/5 [01:54<00:00, 22.93s/it]\n",
      "Iteration 21: 100%|██████████| 5/5 [01:50<00:00, 22.03s/it]\n",
      "Iteration 22: 100%|██████████| 5/5 [02:10<00:00, 26.08s/it]\n",
      "Iteration 23: 100%|██████████| 5/5 [01:31<00:00, 18.36s/it]\n",
      "Iteration 24: 100%|██████████| 5/5 [01:52<00:00, 22.44s/it]\n",
      "Iteration 25: 100%|██████████| 5/5 [02:08<00:00, 25.61s/it]\n"
     ]
    },
    {
     "name": "stdout",
     "output_type": "stream",
     "text": [
      "\n",
      "\n",
      "gemma2\n",
      "\n"
     ]
    },
    {
     "name": "stderr",
     "output_type": "stream",
     "text": [
      "Iteration 1: 100%|██████████| 5/5 [08:00<00:00, 96.19s/it] \n",
      "Iteration 2: 100%|██████████| 5/5 [07:17<00:00, 87.45s/it]\n",
      "Iteration 3: 100%|██████████| 5/5 [07:37<00:00, 91.57s/it]\n",
      "Iteration 4: 100%|██████████| 5/5 [07:05<00:00, 85.13s/it]\n",
      "Iteration 5: 100%|██████████| 5/5 [06:50<00:00, 82.16s/it]\n",
      "Iteration 6: 100%|██████████| 5/5 [07:23<00:00, 88.61s/it]\n",
      "Iteration 7: 100%|██████████| 5/5 [07:45<00:00, 93.17s/it]\n",
      "Iteration 8: 100%|██████████| 5/5 [06:59<00:00, 83.95s/it]\n",
      "Iteration 9: 100%|██████████| 5/5 [07:14<00:00, 86.89s/it] \n",
      "Iteration 10: 100%|██████████| 5/5 [06:55<00:00, 83.15s/it]\n",
      "Iteration 11: 100%|██████████| 5/5 [07:17<00:00, 87.43s/it] \n",
      "Iteration 12: 100%|██████████| 5/5 [07:36<00:00, 91.31s/it]\n",
      "Iteration 13: 100%|██████████| 5/5 [06:52<00:00, 82.58s/it] \n",
      "Iteration 14: 100%|██████████| 5/5 [07:13<00:00, 86.79s/it]\n",
      "Iteration 15: 100%|██████████| 5/5 [07:11<00:00, 86.34s/it]\n",
      "Iteration 16: 100%|██████████| 5/5 [07:19<00:00, 87.97s/it]\n",
      "Iteration 17: 100%|██████████| 5/5 [07:17<00:00, 87.44s/it]\n",
      "Iteration 18: 100%|██████████| 5/5 [07:35<00:00, 91.13s/it]\n",
      "Iteration 19: 100%|██████████| 5/5 [06:23<00:00, 76.79s/it]\n",
      "Iteration 20: 100%|██████████| 5/5 [06:52<00:00, 82.46s/it]\n",
      "Iteration 21: 100%|██████████| 5/5 [08:06<00:00, 97.29s/it] \n",
      "Iteration 22: 100%|██████████| 5/5 [07:48<00:00, 93.71s/it] \n",
      "Iteration 23: 100%|██████████| 5/5 [07:08<00:00, 85.75s/it]\n",
      "Iteration 24: 100%|██████████| 5/5 [07:12<00:00, 86.40s/it]\n",
      "Iteration 25: 100%|██████████| 5/5 [07:38<00:00, 91.78s/it] \n"
     ]
    },
    {
     "name": "stdout",
     "output_type": "stream",
     "text": [
      "\n",
      "\n",
      "qwen2.5\n",
      "\n"
     ]
    },
    {
     "name": "stderr",
     "output_type": "stream",
     "text": [
      "Iteration 1: 100%|██████████| 5/5 [05:25<00:00, 65.03s/it]\n",
      "Iteration 2: 100%|██████████| 5/5 [04:53<00:00, 58.74s/it]\n",
      "Iteration 3: 100%|██████████| 5/5 [05:02<00:00, 60.54s/it]\n",
      "Iteration 4: 100%|██████████| 5/5 [05:03<00:00, 60.71s/it]\n",
      "Iteration 5: 100%|██████████| 5/5 [04:34<00:00, 54.99s/it]\n",
      "Iteration 6: 100%|██████████| 5/5 [04:02<00:00, 48.54s/it]\n",
      "Iteration 7: 100%|██████████| 5/5 [05:25<00:00, 65.15s/it]\n",
      "Iteration 8: 100%|██████████| 5/5 [04:28<00:00, 53.72s/it]\n",
      "Iteration 9: 100%|██████████| 5/5 [04:20<00:00, 52.08s/it]\n",
      "Iteration 10: 100%|██████████| 5/5 [04:59<00:00, 59.83s/it]\n",
      "Iteration 11: 100%|██████████| 5/5 [05:21<00:00, 64.31s/it]\n",
      "Iteration 12: 100%|██████████| 5/5 [04:29<00:00, 53.90s/it]\n",
      "Iteration 13: 100%|██████████| 5/5 [04:41<00:00, 56.29s/it]\n",
      "Iteration 14: 100%|██████████| 5/5 [04:17<00:00, 51.47s/it]\n",
      "Iteration 15: 100%|██████████| 5/5 [04:55<00:00, 59.14s/it]\n",
      "Iteration 16: 100%|██████████| 5/5 [05:00<00:00, 60.05s/it]\n",
      "Iteration 17: 100%|██████████| 5/5 [05:01<00:00, 60.27s/it]\n",
      "Iteration 18: 100%|██████████| 5/5 [04:07<00:00, 49.55s/it]\n",
      "Iteration 19: 100%|██████████| 5/5 [04:36<00:00, 55.22s/it]\n",
      "Iteration 20: 100%|██████████| 5/5 [04:45<00:00, 57.09s/it]\n",
      "Iteration 21: 100%|██████████| 5/5 [04:59<00:00, 59.80s/it]\n",
      "Iteration 22: 100%|██████████| 5/5 [05:17<00:00, 63.59s/it]\n",
      "Iteration 23: 100%|██████████| 5/5 [04:42<00:00, 56.47s/it]\n",
      "Iteration 24: 100%|██████████| 5/5 [04:36<00:00, 55.24s/it]\n",
      "Iteration 25: 100%|██████████| 5/5 [04:58<00:00, 59.69s/it]\n"
     ]
    },
    {
     "name": "stdout",
     "output_type": "stream",
     "text": [
      "\n",
      "\n",
      "mistral\n",
      "\n"
     ]
    },
    {
     "name": "stderr",
     "output_type": "stream",
     "text": [
      "Iteration 1: 100%|██████████| 5/5 [04:36<00:00, 55.38s/it]\n",
      "Iteration 2: 100%|██████████| 5/5 [06:04<00:00, 72.92s/it] \n",
      "Iteration 3: 100%|██████████| 5/5 [06:01<00:00, 72.39s/it]\n",
      "Iteration 4: 100%|██████████| 5/5 [04:32<00:00, 54.56s/it]\n",
      "Iteration 5: 100%|██████████| 5/5 [04:29<00:00, 53.83s/it]\n",
      "Iteration 6: 100%|██████████| 5/5 [04:48<00:00, 57.80s/it]\n",
      "Iteration 7: 100%|██████████| 5/5 [05:16<00:00, 63.39s/it]\n",
      "Iteration 8: 100%|██████████| 5/5 [04:15<00:00, 51.05s/it]\n",
      "Iteration 9: 100%|██████████| 5/5 [04:37<00:00, 55.50s/it]\n",
      "Iteration 10: 100%|██████████| 5/5 [03:51<00:00, 46.23s/it]\n",
      "Iteration 11: 100%|██████████| 5/5 [04:15<00:00, 51.12s/it]\n",
      "Iteration 12: 100%|██████████| 5/5 [05:21<00:00, 64.32s/it]\n",
      "Iteration 13: 100%|██████████| 5/5 [04:03<00:00, 48.67s/it]\n",
      "Iteration 14: 100%|██████████| 5/5 [04:42<00:00, 56.41s/it]\n",
      "Iteration 15: 100%|██████████| 5/5 [04:15<00:00, 51.09s/it]\n",
      "Iteration 16: 100%|██████████| 5/5 [04:22<00:00, 52.47s/it]\n",
      "Iteration 17: 100%|██████████| 5/5 [05:06<00:00, 61.21s/it]\n",
      "Iteration 18: 100%|██████████| 5/5 [04:48<00:00, 57.75s/it]\n",
      "Iteration 19: 100%|██████████| 5/5 [04:20<00:00, 52.06s/it]\n",
      "Iteration 20: 100%|██████████| 5/5 [04:46<00:00, 57.37s/it]\n",
      "Iteration 21: 100%|██████████| 5/5 [05:03<00:00, 60.75s/it]\n",
      "Iteration 22: 100%|██████████| 5/5 [04:48<00:00, 57.67s/it]\n",
      "Iteration 23: 100%|██████████| 5/5 [04:34<00:00, 54.86s/it]\n",
      "Iteration 24: 100%|██████████| 5/5 [04:03<00:00, 48.75s/it]\n",
      "Iteration 25: 100%|██████████| 5/5 [05:15<00:00, 63.12s/it]"
     ]
    },
    {
     "name": "stdout",
     "output_type": "stream",
     "text": [
      "\n",
      "\n"
     ]
    },
    {
     "name": "stderr",
     "output_type": "stream",
     "text": [
      "\n"
     ]
    }
   ],
   "source": [
    "for model_name, logfile in zip(models, logs):\n",
    "    \n",
    "    print(model_name)\n",
    "    print()\n",
    "    \n",
    "    model = OllamaLLM(model=model_name)\n",
    "    \n",
    "    for iter in range(1, 26):        \n",
    "        turn = 0\n",
    "        for question in tqdm(questions, desc=f'Iteration {iter}'):\n",
    "            chain = prompt.format(**{\"question\": question})\n",
    "            \n",
    "            start = timer()\n",
    "            model.invoke(chain)\n",
    "            end = timer()\n",
    "            \n",
    "            f = open(f\"time_db/no_context/{logfile}.csv\", \"a\", newline='')\n",
    "            csv_writer = csv.writer(f)\n",
    "            csv_writer.writerow([f'Iteration {iter}', f'Turn {turn}', end-start])\n",
    "            f.close()\n",
    "            \n",
    "            turn += 1        \n",
    "    print(\"\\n\")"
   ]
  },
  {
   "cell_type": "markdown",
   "metadata": {},
   "source": [
    "## Query Answers (with context)"
   ]
  },
  {
   "cell_type": "code",
   "execution_count": 10,
   "metadata": {},
   "outputs": [],
   "source": [
    "from langchain_ollama.llms import OllamaLLM\n",
    "from langchain_community.document_loaders import PyPDFLoader\n",
    "from langchain.prompts import PromptTemplate\n",
    "from langchain.text_splitter import RecursiveCharacterTextSplitter\n",
    "import torch\n",
    "import os\n",
    "from tqdm import tqdm\n",
    "\n",
    "device = torch.device(\"cuda:0\")\n",
    "\n",
    "questions = [\"Explain how blockchain reduces fraud in international trade, focusing on transparency, traceability, and decentralization.\", \n",
    "             \"Analyze blockchain's impact on healthcare, including data management, supply chain, and billing systems.\",\n",
    "             \"Describe blockchain-based KYC processes and their advantages over traditional methods.\",\n",
    "             \"Evaluate blockchain's role in cross-border payments, emphasizing cost, speed, and transparency.\",\n",
    "             \"Discuss the potential and challenges of integrating AI with blockchain technology.\"]\n",
    "\n",
    "template = \"\"\"Answer the given question based only on the context given below.\n",
    "\n",
    "Context : {context}\n",
    "\n",
    "Question : {question}\n",
    "\n",
    "Instructions for answering\n",
    "1. The question has to be answered with a minimum of 100 words and a maximum of 500 words.\n",
    "2. Atleast 3 paragraphs have to be present - 1 introduction, 1 conclusion and 1 with the content.\n",
    "3. Bullet points and subheadings can be present.\n",
    "4. Proper markdown format has to be followed.\n",
    "\n",
    "Answer:\"\"\"\n",
    "\n",
    "prompt = PromptTemplate.from_template(template)\n",
    "\n",
    "models = [\"llama3.2:3b\", \"gemma2\", \"qwen2.5\", \"mistral\"]\n",
    "output_folders = [\"llama\", \"gemma\", \"qwen\", \"mistral\"]\n",
    "\n",
    "if not os.path.exists(\"answers_db\"):\n",
    "    os.makedirs(\"answers_db\")\n",
    "\n",
    "if not os.path.exists(\"answers_db/context\"):\n",
    "    os.makedirs(\"answers_db/context\")\n",
    "    \n",
    "for folder_name in output_folders:\n",
    "    if not os.path.exists(f\"answers_db/context/{folder_name}\"):\n",
    "        os.makedirs(f\"answers_db/context/{folder_name}\")\n",
    "    \n",
    "for folder_name in output_folders:\n",
    "    for i in range(len(questions)):\n",
    "        f = open(f\"answers_db/context/{folder_name}/Turn {i}.md\", \"w\", newline='')\n",
    "        f.close()\n",
    "\n",
    "loader = PyPDFLoader(\"Applications of Blockchain.pdf\")\n",
    "pages = loader.load()\n",
    "\n",
    "text_splitter = RecursiveCharacterTextSplitter(chunk_size=1000, chunk_overlap=200)\n",
    "texts = text_splitter.split_documents(pages)\n",
    "\n",
    "context_text = \"\\n\\n\".join([doc.page_content for doc in texts])"
   ]
  },
  {
   "cell_type": "code",
   "execution_count": 11,
   "metadata": {},
   "outputs": [
    {
     "name": "stderr",
     "output_type": "stream",
     "text": [
      "llama3.2:3b: 100%|██████████| 5/5 [04:34<00:00, 54.98s/it]\n",
      "gemma2: 100%|██████████| 5/5 [18:21<00:00, 220.30s/it]\n",
      "qwen2.5: 100%|██████████| 5/5 [13:01<00:00, 156.27s/it]\n",
      "mistral: 100%|██████████| 5/5 [14:01<00:00, 168.24s/it]\n"
     ]
    }
   ],
   "source": [
    "for model_name, output_folder in zip(models, output_folders):\n",
    "    \n",
    "    model = OllamaLLM(model=model_name)\n",
    "    \n",
    "    turn = 0\n",
    "    for question in tqdm(questions, desc=model_name):\n",
    "        chain = prompt.format(**{\"context\": context_text, \"question\": question})\n",
    "        answer = model.invoke(chain)\n",
    "        \n",
    "        f = open(f\"answers_db/context/{output_folder}/Turn {turn}.md\", \"w\")\n",
    "        f.write(answer)\n",
    "        f.close()\n",
    "        \n",
    "        turn += 1\n",
    "    "
   ]
  },
  {
   "cell_type": "markdown",
   "metadata": {},
   "source": [
    "## Average Response Time (with context)"
   ]
  },
  {
   "cell_type": "code",
   "execution_count": 12,
   "metadata": {},
   "outputs": [],
   "source": [
    "from langchain_ollama.llms import OllamaLLM\n",
    "from langchain.prompts import PromptTemplate\n",
    "from langchain_community.document_loaders import PyPDFLoader\n",
    "from langchain.text_splitter import RecursiveCharacterTextSplitter\n",
    "import torch\n",
    "from timeit import default_timer as timer\n",
    "import csv\n",
    "from tqdm import tqdm\n",
    "import os\n",
    "\n",
    "device = torch.device('cuda:0')\n",
    "\n",
    "questions = [\"Explain how blockchain reduces fraud in international trade, focusing on transparency, traceability, and decentralization.\", \n",
    "             \"Analyze blockchain's impact on healthcare, including data management, supply chain, and billing systems.\",\n",
    "             \"Describe blockchain-based KYC processes and their advantages over traditional methods.\",\n",
    "             \"Evaluate blockchain's role in cross-border payments, emphasizing cost, speed, and transparency.\",\n",
    "             \"Discuss the potential and challenges of integrating AI with blockchain technology.\"]\n",
    "\n",
    "template = \"\"\"Answer the given question based only on the context given below.\n",
    "\n",
    "Context : {context}\n",
    "\n",
    "Question : {question}\n",
    "\n",
    "Instructions for answering\n",
    "1. The question has to be answered with a minimum of 100 words and a maximum of 500 words.\n",
    "2. Atleast 3 paragraphs have to be present - 1 introduction, 1 conclusion and 1 with the content.\n",
    "3. Bullet points and subheadings can be present.\n",
    "4. Proper markdown format has to be followed.\n",
    "\n",
    "Answer:\"\"\"\n",
    "\n",
    "prompt = PromptTemplate.from_template(template)\n",
    "\n",
    "models = [\"llama3.2:3b\", \"gemma2\", \"qwen2.5\", \"mistral\"]\n",
    "logs = [\"llama\", \"gemma\", \"qwen\", \"mistral\"]\n",
    "\n",
    "if not os.path.exists(\"time_db\"):\n",
    "    os.makedirs(\"time_db\")\n",
    "\n",
    "if not os.path.exists(\"time_db/context\"):\n",
    "    os.makedirs(\"time_db/context\")\n",
    "\n",
    "for logfile in logs:\n",
    "    f = open(f\"time_db/context/{logfile}.csv\", \"w\", newline='')\n",
    "    csv.writer(f).writerow([\"Iteration\", \"Turn\", \"Duration\"])\n",
    "    f.close()\n",
    "    \n",
    "loader = PyPDFLoader(\"Applications of Blockchain.pdf\")\n",
    "pages = loader.load()\n",
    "\n",
    "text_splitter = RecursiveCharacterTextSplitter(chunk_size=1000, chunk_overlap=200)\n",
    "texts = text_splitter.split_documents(pages)\n",
    "\n",
    "context_text = \"\\n\\n\".join([doc.page_content for doc in texts])"
   ]
  },
  {
   "cell_type": "code",
   "execution_count": 13,
   "metadata": {},
   "outputs": [
    {
     "name": "stdout",
     "output_type": "stream",
     "text": [
      "llama3.2:3b\n",
      "\n"
     ]
    },
    {
     "name": "stderr",
     "output_type": "stream",
     "text": [
      "Iteration 1: 100%|██████████| 5/5 [04:24<00:00, 52.87s/it]\n",
      "Iteration 2: 100%|██████████| 5/5 [04:29<00:00, 53.88s/it]\n",
      "Iteration 3: 100%|██████████| 5/5 [04:19<00:00, 51.89s/it]\n",
      "Iteration 4: 100%|██████████| 5/5 [03:37<00:00, 43.43s/it]\n",
      "Iteration 5: 100%|██████████| 5/5 [04:08<00:00, 49.69s/it]\n",
      "Iteration 6: 100%|██████████| 5/5 [03:44<00:00, 44.88s/it]\n",
      "Iteration 7: 100%|██████████| 5/5 [03:45<00:00, 45.17s/it]\n",
      "Iteration 8: 100%|██████████| 5/5 [04:10<00:00, 50.14s/it]\n",
      "Iteration 9: 100%|██████████| 5/5 [04:32<00:00, 54.49s/it]\n",
      "Iteration 10: 100%|██████████| 5/5 [03:31<00:00, 42.29s/it]\n",
      "Iteration 11: 100%|██████████| 5/5 [04:33<00:00, 54.66s/it]\n",
      "Iteration 12: 100%|██████████| 5/5 [03:37<00:00, 43.43s/it]\n",
      "Iteration 13: 100%|██████████| 5/5 [03:29<00:00, 42.00s/it]\n",
      "Iteration 14: 100%|██████████| 5/5 [03:20<00:00, 40.09s/it]\n",
      "Iteration 15: 100%|██████████| 5/5 [04:03<00:00, 48.75s/it]\n",
      "Iteration 16: 100%|██████████| 5/5 [04:02<00:00, 48.50s/it]\n",
      "Iteration 17: 100%|██████████| 5/5 [03:20<00:00, 40.02s/it]\n",
      "Iteration 18: 100%|██████████| 5/5 [04:23<00:00, 52.65s/it]\n",
      "Iteration 19: 100%|██████████| 5/5 [05:26<00:00, 65.26s/it]\n",
      "Iteration 20: 100%|██████████| 5/5 [03:25<00:00, 41.18s/it]\n",
      "Iteration 21: 100%|██████████| 5/5 [03:24<00:00, 40.83s/it]\n",
      "Iteration 22: 100%|██████████| 5/5 [02:53<00:00, 34.72s/it]\n",
      "Iteration 23: 100%|██████████| 5/5 [03:33<00:00, 42.71s/it]\n",
      "Iteration 24: 100%|██████████| 5/5 [04:10<00:00, 50.05s/it]\n",
      "Iteration 25: 100%|██████████| 5/5 [03:08<00:00, 37.68s/it]\n"
     ]
    },
    {
     "name": "stdout",
     "output_type": "stream",
     "text": [
      "\n",
      "\n",
      "gemma2\n",
      "\n"
     ]
    },
    {
     "name": "stderr",
     "output_type": "stream",
     "text": [
      "Iteration 1: 100%|██████████| 5/5 [18:11<00:00, 218.31s/it]\n",
      "Iteration 2: 100%|██████████| 5/5 [18:20<00:00, 220.02s/it]\n",
      "Iteration 3: 100%|██████████| 5/5 [19:53<00:00, 238.65s/it]\n",
      "Iteration 4: 100%|██████████| 5/5 [18:10<00:00, 218.19s/it]\n",
      "Iteration 5: 100%|██████████| 5/5 [17:44<00:00, 212.97s/it]\n",
      "Iteration 6: 100%|██████████| 5/5 [18:54<00:00, 226.97s/it]\n",
      "Iteration 7: 100%|██████████| 5/5 [19:55<00:00, 239.06s/it]\n",
      "Iteration 8: 100%|██████████| 5/5 [18:51<00:00, 226.27s/it]\n",
      "Iteration 9: 100%|██████████| 5/5 [17:33<00:00, 210.74s/it]\n",
      "Iteration 10: 100%|██████████| 5/5 [18:16<00:00, 219.28s/it]\n",
      "Iteration 11: 100%|██████████| 5/5 [20:16<00:00, 243.22s/it]\n",
      "Iteration 12: 100%|██████████| 5/5 [18:13<00:00, 218.65s/it]\n",
      "Iteration 13: 100%|██████████| 5/5 [19:46<00:00, 237.26s/it]\n",
      "Iteration 14: 100%|██████████| 5/5 [20:04<00:00, 240.90s/it]\n",
      "Iteration 15: 100%|██████████| 5/5 [18:23<00:00, 220.62s/it]\n",
      "Iteration 16: 100%|██████████| 5/5 [18:31<00:00, 222.40s/it]\n",
      "Iteration 17: 100%|██████████| 5/5 [18:42<00:00, 224.55s/it]\n",
      "Iteration 18: 100%|██████████| 5/5 [18:25<00:00, 221.01s/it]\n",
      "Iteration 19: 100%|██████████| 5/5 [20:16<00:00, 243.37s/it]\n",
      "Iteration 20: 100%|██████████| 5/5 [19:18<00:00, 231.66s/it]\n",
      "Iteration 21: 100%|██████████| 5/5 [18:54<00:00, 226.93s/it]\n",
      "Iteration 22: 100%|██████████| 5/5 [17:42<00:00, 212.44s/it]\n",
      "Iteration 23: 100%|██████████| 5/5 [18:47<00:00, 225.56s/it]\n",
      "Iteration 24: 100%|██████████| 5/5 [18:36<00:00, 223.39s/it]\n",
      "Iteration 25: 100%|██████████| 5/5 [19:25<00:00, 233.01s/it]\n"
     ]
    },
    {
     "name": "stdout",
     "output_type": "stream",
     "text": [
      "\n",
      "\n",
      "qwen2.5\n",
      "\n"
     ]
    },
    {
     "name": "stderr",
     "output_type": "stream",
     "text": [
      "Iteration 1: 100%|██████████| 5/5 [14:05<00:00, 169.12s/it]\n",
      "Iteration 2: 100%|██████████| 5/5 [14:33<00:00, 174.73s/it]\n",
      "Iteration 3: 100%|██████████| 5/5 [15:28<00:00, 185.73s/it]\n",
      "Iteration 4: 100%|██████████| 5/5 [14:08<00:00, 169.71s/it]\n",
      "Iteration 5: 100%|██████████| 5/5 [13:27<00:00, 161.52s/it]\n",
      "Iteration 6: 100%|██████████| 5/5 [15:13<00:00, 182.78s/it]\n",
      "Iteration 7: 100%|██████████| 5/5 [12:13<00:00, 146.76s/it]\n",
      "Iteration 8: 100%|██████████| 5/5 [13:21<00:00, 160.36s/it]\n",
      "Iteration 9: 100%|██████████| 5/5 [16:55<00:00, 203.14s/it]\n",
      "Iteration 10: 100%|██████████| 5/5 [12:39<00:00, 151.82s/it]\n",
      "Iteration 11: 100%|██████████| 5/5 [14:50<00:00, 178.14s/it]\n",
      "Iteration 12: 100%|██████████| 5/5 [15:20<00:00, 184.13s/it]\n",
      "Iteration 13: 100%|██████████| 5/5 [14:58<00:00, 179.74s/it]\n",
      "Iteration 14: 100%|██████████| 5/5 [14:40<00:00, 176.09s/it]\n",
      "Iteration 15: 100%|██████████| 5/5 [12:51<00:00, 154.29s/it]\n",
      "Iteration 16: 100%|██████████| 5/5 [13:51<00:00, 166.22s/it]\n",
      "Iteration 17: 100%|██████████| 5/5 [15:37<00:00, 187.47s/it]\n",
      "Iteration 18: 100%|██████████| 5/5 [14:50<00:00, 178.09s/it]\n",
      "Iteration 19: 100%|██████████| 5/5 [14:21<00:00, 172.40s/it]\n",
      "Iteration 20: 100%|██████████| 5/5 [15:35<00:00, 187.05s/it]\n",
      "Iteration 21: 100%|██████████| 5/5 [16:11<00:00, 194.27s/it]\n",
      "Iteration 22: 100%|██████████| 5/5 [16:10<00:00, 194.04s/it]\n",
      "Iteration 23: 100%|██████████| 5/5 [13:35<00:00, 163.03s/it]\n",
      "Iteration 24: 100%|██████████| 5/5 [14:07<00:00, 169.56s/it]\n",
      "Iteration 25: 100%|██████████| 5/5 [14:55<00:00, 179.13s/it]\n"
     ]
    },
    {
     "name": "stdout",
     "output_type": "stream",
     "text": [
      "\n",
      "\n",
      "mistral\n",
      "\n"
     ]
    },
    {
     "name": "stderr",
     "output_type": "stream",
     "text": [
      "Iteration 1: 100%|██████████| 5/5 [13:54<00:00, 166.85s/it]\n",
      "Iteration 2: 100%|██████████| 5/5 [13:08<00:00, 157.62s/it]\n",
      "Iteration 3: 100%|██████████| 5/5 [14:19<00:00, 171.94s/it]\n",
      "Iteration 4: 100%|██████████| 5/5 [12:04<00:00, 144.90s/it]\n",
      "Iteration 5: 100%|██████████| 5/5 [13:01<00:00, 156.26s/it]\n",
      "Iteration 6: 100%|██████████| 5/5 [11:43<00:00, 140.73s/it]\n",
      "Iteration 7: 100%|██████████| 5/5 [11:18<00:00, 135.69s/it]\n",
      "Iteration 8: 100%|██████████| 5/5 [13:46<00:00, 165.30s/it]\n",
      "Iteration 9: 100%|██████████| 5/5 [14:11<00:00, 170.39s/it]\n",
      "Iteration 10: 100%|██████████| 5/5 [14:24<00:00, 172.91s/it]\n",
      "Iteration 11: 100%|██████████| 5/5 [13:02<00:00, 156.54s/it]\n",
      "Iteration 12: 100%|██████████| 5/5 [13:06<00:00, 157.21s/it]\n",
      "Iteration 13: 100%|██████████| 5/5 [12:24<00:00, 148.98s/it]\n",
      "Iteration 14: 100%|██████████| 5/5 [14:13<00:00, 170.67s/it]\n",
      "Iteration 15: 100%|██████████| 5/5 [12:20<00:00, 148.17s/it]\n",
      "Iteration 16: 100%|██████████| 5/5 [15:15<00:00, 183.04s/it]\n",
      "Iteration 17: 100%|██████████| 5/5 [15:37<00:00, 187.57s/it]\n",
      "Iteration 18: 100%|██████████| 5/5 [12:52<00:00, 154.55s/it]\n",
      "Iteration 19: 100%|██████████| 5/5 [13:14<00:00, 158.95s/it]\n",
      "Iteration 20: 100%|██████████| 5/5 [13:10<00:00, 158.07s/it]\n",
      "Iteration 21: 100%|██████████| 5/5 [13:03<00:00, 156.70s/it]\n",
      "Iteration 22: 100%|██████████| 5/5 [13:09<00:00, 157.97s/it]\n",
      "Iteration 23: 100%|██████████| 5/5 [14:18<00:00, 171.61s/it]\n",
      "Iteration 24: 100%|██████████| 5/5 [12:37<00:00, 151.41s/it]\n",
      "Iteration 25: 100%|██████████| 5/5 [13:32<00:00, 162.52s/it]"
     ]
    },
    {
     "name": "stdout",
     "output_type": "stream",
     "text": [
      "\n",
      "\n"
     ]
    },
    {
     "name": "stderr",
     "output_type": "stream",
     "text": [
      "\n"
     ]
    }
   ],
   "source": [
    "for model_name, logfile in zip(models, logs):\n",
    "    \n",
    "    print(model_name)\n",
    "    print()\n",
    "    \n",
    "    model = OllamaLLM(model=model_name)\n",
    "    \n",
    "    for iter in range(1, 26):        \n",
    "        turn = 0\n",
    "        for question in tqdm(questions, desc=f'Iteration {iter}'):\n",
    "            chain = prompt.format(**{\"context\": context_text, \"question\": question})\n",
    "            \n",
    "            start = timer()\n",
    "            model.invoke(chain)\n",
    "            end = timer()\n",
    "            \n",
    "            f = open(f\"time_db/context/{logfile}.csv\", \"a\", newline='')\n",
    "            csv_writer = csv.writer(f)\n",
    "            csv_writer.writerow([f'Iteration {iter}', f'Turn {turn}', end-start])\n",
    "            f.close()\n",
    "            \n",
    "            turn += 1        \n",
    "    print(\"\\n\")"
   ]
  },
  {
   "cell_type": "markdown",
   "metadata": {},
   "source": [
    "## Results"
   ]
  },
  {
   "cell_type": "code",
   "execution_count": 92,
   "metadata": {},
   "outputs": [
    {
     "data": {
      "text/plain": [
       "Text(0, 0.5, 'Duration(s)')"
      ]
     },
     "execution_count": 92,
     "metadata": {},
     "output_type": "execute_result"
    },
    {
     "data": {
      "image/png": "[encoded data removed]",
      "text/plain": [
       "<Figure size 640x480 with 1 Axes>"
      ]
     },
     "metadata": {},
     "output_type": "display_data"
    }
   ],
   "source": [
    "import pandas as pd\n",
    "import matplotlib.pyplot as plt\n",
    "\n",
    "logs = [\"llama\", \"gemma\", \"qwen\", \"mistral\"]\n",
    "no_context_time_dfs = {}\n",
    "\n",
    "for logfile in logs:\n",
    "        df = pd.read_csv(f\"time_db/no_context/{logfile}.csv\")\n",
    "        no_context_time_dfs[logfile] = df\n",
    "        \n",
    "plt.bar(no_context_time_dfs.keys(), [no_context_time_dfs[x]['Duration'].mean() for x in no_context_time_dfs.keys()])\n",
    "plt.xlabel(\"Model\")\n",
    "plt.ylabel(\"Duration(s)\")"
   ]
  },
  {
   "cell_type": "code",
   "execution_count": 99,
   "metadata": {},
   "outputs": [
    {
     "data": {
      "text/plain": [
       "Text(0, 0.5, 'Duration(s)')"
      ]
     },
     "execution_count": 99,
     "metadata": {},
     "output_type": "execute_result"
    },
    {
     "data": {
      "image/png": "[encoded data removed]",
      "text/plain": [
       "<Figure size 640x480 with 1 Axes>"
      ]
     },
     "metadata": {},
     "output_type": "display_data"
    }
   ],
   "source": [
    "import pandas as pd\n",
    "import matplotlib.pyplot as plt\n",
    "\n",
    "logs = [\"llama\", \"gemma\", \"qwen\", \"mistral\"]\n",
    "context_time_dfs = {}\n",
    "\n",
    "for logfile in logs:\n",
    "        df = pd.read_csv(f\"time_db/context/{logfile}.csv\")\n",
    "        context_time_dfs[logfile] = df\n",
    "        \n",
    "plt.bar(context_time_dfs.keys(), [context_time_dfs[x]['Duration'].mean() for x in context_time_dfs.keys()])\n",
    "plt.xlabel(\"Model\")\n",
    "plt.ylabel(\"Duration(s)\")"
   ]
  },
  {
   "cell_type": "code",
   "execution_count": 94,
   "metadata": {},
   "outputs": [
    {
     "data": {
      "text/html": [
       "<div>\n",
       "<style scoped>\n",
       "    .dataframe tbody tr th:only-of-type {\n",
       "        vertical-align: middle;\n",
       "    }\n",
       "\n",
       "    .dataframe tbody tr th {\n",
       "        vertical-align: top;\n",
       "    }\n",
       "\n",
       "    .dataframe thead th {\n",
       "        text-align: right;\n",
       "    }\n",
       "</style>\n",
       "<table border=\"1\" class=\"dataframe\">\n",
       "  <thead>\n",
       "    <tr style=\"text-align: right;\">\n",
       "      <th></th>\n",
       "      <th>context_status</th>\n",
       "      <th>model</th>\n",
       "      <th>accuracy</th>\n",
       "      <th>relevance</th>\n",
       "      <th>grammatical_correctness</th>\n",
       "      <th>answer_formatting</th>\n",
       "    </tr>\n",
       "  </thead>\n",
       "  <tbody>\n",
       "    <tr>\n",
       "      <th>0</th>\n",
       "      <td>context</td>\n",
       "      <td>gemma</td>\n",
       "      <td>3.8</td>\n",
       "      <td>2.0</td>\n",
       "      <td>1.30</td>\n",
       "      <td>3.0</td>\n",
       "    </tr>\n",
       "    <tr>\n",
       "      <th>1</th>\n",
       "      <td>context</td>\n",
       "      <td>llama</td>\n",
       "      <td>4.0</td>\n",
       "      <td>2.9</td>\n",
       "      <td>1.50</td>\n",
       "      <td>2.0</td>\n",
       "    </tr>\n",
       "    <tr>\n",
       "      <th>2</th>\n",
       "      <td>context</td>\n",
       "      <td>mistral</td>\n",
       "      <td>3.6</td>\n",
       "      <td>0.9</td>\n",
       "      <td>2.10</td>\n",
       "      <td>1.3</td>\n",
       "    </tr>\n",
       "    <tr>\n",
       "      <th>3</th>\n",
       "      <td>context</td>\n",
       "      <td>qwen</td>\n",
       "      <td>4.8</td>\n",
       "      <td>3.3</td>\n",
       "      <td>2.10</td>\n",
       "      <td>2.5</td>\n",
       "    </tr>\n",
       "    <tr>\n",
       "      <th>4</th>\n",
       "      <td>no_context</td>\n",
       "      <td>gemma</td>\n",
       "      <td>4.8</td>\n",
       "      <td>4.1</td>\n",
       "      <td>2.50</td>\n",
       "      <td>2.7</td>\n",
       "    </tr>\n",
       "    <tr>\n",
       "      <th>5</th>\n",
       "      <td>no_context</td>\n",
       "      <td>llama</td>\n",
       "      <td>4.8</td>\n",
       "      <td>3.5</td>\n",
       "      <td>2.96</td>\n",
       "      <td>2.8</td>\n",
       "    </tr>\n",
       "    <tr>\n",
       "      <th>6</th>\n",
       "      <td>no_context</td>\n",
       "      <td>mistral</td>\n",
       "      <td>5.0</td>\n",
       "      <td>4.6</td>\n",
       "      <td>2.96</td>\n",
       "      <td>3.0</td>\n",
       "    </tr>\n",
       "    <tr>\n",
       "      <th>7</th>\n",
       "      <td>no_context</td>\n",
       "      <td>qwen</td>\n",
       "      <td>5.0</td>\n",
       "      <td>4.1</td>\n",
       "      <td>3.00</td>\n",
       "      <td>3.0</td>\n",
       "    </tr>\n",
       "  </tbody>\n",
       "</table>\n",
       "</div>"
      ],
      "text/plain": [
       "  context_status    model  accuracy  relevance  grammatical_correctness  \\\n",
       "0        context    gemma       3.8        2.0                     1.30   \n",
       "1        context    llama       4.0        2.9                     1.50   \n",
       "2        context  mistral       3.6        0.9                     2.10   \n",
       "3        context     qwen       4.8        3.3                     2.10   \n",
       "4     no_context    gemma       4.8        4.1                     2.50   \n",
       "5     no_context    llama       4.8        3.5                     2.96   \n",
       "6     no_context  mistral       5.0        4.6                     2.96   \n",
       "7     no_context     qwen       5.0        4.1                     3.00   \n",
       "\n",
       "   answer_formatting  \n",
       "0                3.0  \n",
       "1                2.0  \n",
       "2                1.3  \n",
       "3                2.5  \n",
       "4                2.7  \n",
       "5                2.8  \n",
       "6                3.0  \n",
       "7                3.0  "
      ]
     },
     "execution_count": 94,
     "metadata": {},
     "output_type": "execute_result"
    }
   ],
   "source": [
    "import pandas as pd\n",
    "\n",
    "df = pd.read_csv(\"results.csv\")\n",
    "df.head()\n",
    "\n",
    "grouped_data = df.groupby(['context_status', 'model']).mean(numeric_only=True)\n",
    "grouped_data.drop(labels='turn', axis=1, inplace=True)\n",
    "grouped_data.reset_index(inplace=True)\n",
    "grouped_data"
   ]
  },
  {
   "cell_type": "code",
   "execution_count": 95,
   "metadata": {},
   "outputs": [
    {
     "data": {
      "text/plain": [
       "Text(0, 0.5, 'score (out of 3)')"
      ]
     },
     "execution_count": 95,
     "metadata": {},
     "output_type": "execute_result"
    },
    {
     "data": {
      "image/png": "[encoded data removed]",
      "text/plain": [
       "<Figure size 1200x1400 with 4 Axes>"
      ]
     },
     "metadata": {},
     "output_type": "display_data"
    }
   ],
   "source": [
    "import matplotlib.pyplot as plt\n",
    "\n",
    "models = [\"llama\", \"gemma\", \"qwen\", \"mistral\"]\n",
    "\n",
    "filter_df = grouped_data[grouped_data.context_status==\"no_context\"]\n",
    "\n",
    "fig = plt.figure(figsize=(12, 14))\n",
    "\n",
    "plt.subplot2grid((2, 2), (0, 0), fig=fig)\n",
    "plt.bar(filter_df.model, filter_df.accuracy)\n",
    "plt.ylim(4.5, 5.1)\n",
    "plt.title(\"Accuracy\")\n",
    "plt.xlabel(\"model\")\n",
    "plt.ylabel(\"score (out of 5)\")\n",
    "\n",
    "plt.subplot2grid((2, 2), (0, 1), fig=fig)\n",
    "plt.bar(filter_df.model, filter_df.relevance)\n",
    "plt.ylim(3, 4.8)\n",
    "plt.title(\"Relevance\")\n",
    "plt.xlabel(\"model\")\n",
    "plt.ylabel(\"score (out of 5)\")\n",
    "\n",
    "plt.subplot2grid((2, 2), (1, 0), fig=fig)\n",
    "plt.bar(filter_df.model, filter_df.grammatical_correctness)\n",
    "plt.ylim(2.4, 3.1)\n",
    "plt.title(\"Grammatical Correctness\")\n",
    "plt.xlabel(\"model\")\n",
    "plt.ylabel(\"score (out of 3)\")\n",
    "\n",
    "plt.subplot2grid((2, 2), (1, 1), fig=fig)\n",
    "plt.bar(filter_df.model, filter_df.answer_formatting)\n",
    "plt.ylim(2.4, 3.1)\n",
    "plt.title(\"Answer Formatting\")\n",
    "plt.xlabel(\"model\")\n",
    "plt.ylabel(\"score (out of 3)\")"
   ]
  },
  {
   "cell_type": "code",
   "execution_count": 96,
   "metadata": {},
   "outputs": [
    {
     "data": {
      "text/plain": [
       "Text(0, 0.5, 'score (out of 3)')"
      ]
     },
     "execution_count": 96,
     "metadata": {},
     "output_type": "execute_result"
    },
    {
     "data": {
      "image/png": "[encoded data removed]",
      "text/plain": [
       "<Figure size 1200x1400 with 4 Axes>"
      ]
     },
     "metadata": {},
     "output_type": "display_data"
    }
   ],
   "source": [
    "import matplotlib.pyplot as plt\n",
    "\n",
    "models = [\"llama\", \"gemma\", \"qwen\", \"mistral\"]\n",
    "\n",
    "filter_df = grouped_data[grouped_data.context_status==\"context\"]\n",
    "\n",
    "fig = plt.figure(figsize=(12, 14))\n",
    "\n",
    "plt.subplot2grid((2, 2), (0, 0), fig=fig)\n",
    "plt.bar(filter_df.model, filter_df.accuracy)\n",
    "plt.ylim(3, 5)\n",
    "plt.title(\"Accuracy\")\n",
    "plt.xlabel(\"model\")\n",
    "plt.ylabel(\"score (out of 5)\")\n",
    "\n",
    "plt.subplot2grid((2, 2), (0, 1), fig=fig)\n",
    "plt.bar(filter_df.model, filter_df.relevance)\n",
    "plt.ylim(0.5, 4)\n",
    "plt.title(\"Relevance\")\n",
    "plt.xlabel(\"model\")\n",
    "plt.ylabel(\"score (out of 5)\")\n",
    "\n",
    "plt.subplot2grid((2, 2), (1, 0), fig=fig)\n",
    "plt.bar(filter_df.model, filter_df.grammatical_correctness)\n",
    "plt.ylim(1, 2.5)\n",
    "plt.title(\"Grammatical Correctness\")\n",
    "plt.xlabel(\"model\")\n",
    "plt.ylabel(\"score (out of 3)\")\n",
    "\n",
    "plt.subplot2grid((2, 2), (1, 1), fig=fig)\n",
    "plt.bar(filter_df.model, filter_df.answer_formatting)\n",
    "plt.ylim(1, 3.1)\n",
    "plt.title(\"Answer Formatting\")\n",
    "plt.xlabel(\"model\")\n",
    "plt.ylabel(\"score (out of 3)\")"
   ]
  }
 ],
 "metadata": {
  "kernelspec": {
   "display_name": "Python 3 (ipykernel)",
   "language": "python",
   "name": "python3"
  },
  "language_info": {
   "codemirror_mode": {
    "name": "ipython",
    "version": 3
   },
   "file_extension": ".py",
   "mimetype": "text/x-python",
   "name": "python",
   "nbconvert_exporter": "python",
   "pygments_lexer": "ipython3",
   "version": "3.11.10"
  }
 },
 "nbformat": 4,
 "nbformat_minor": 4
}
